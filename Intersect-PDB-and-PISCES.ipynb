{
 "cells": [
  {
   "cell_type": "code",
   "execution_count": 1,
   "metadata": {},
   "outputs": [],
   "source": [
    "import datetime\n",
    "import pandas as pd\n",
    "import matplotlib as mpl"
   ]
  },
  {
   "cell_type": "code",
   "execution_count": 2,
   "metadata": {},
   "outputs": [],
   "source": [
    "%matplotlib inline\n",
    "mpl.style.use('classic')"
   ]
  },
  {
   "cell_type": "markdown",
   "metadata": {},
   "source": [
    "# Set input and output filenames"
   ]
  },
  {
   "cell_type": "code",
   "execution_count": 3,
   "metadata": {},
   "outputs": [],
   "source": [
    "cleaned_ss = './raw_data/2023-01-22-ss.cleaned.csv.gz'\n",
    "\n",
    "cullpdb_input = './raw_data/cullpdb_pc30.0_res0.0-2.5_len40-10000_R0.3_Xray_d2022_12_17_chains15208.gz'\n",
    "intersect_output = './raw_data/2023-01-22-pdb-intersect-pisces_pc30_r2.5.csv'"
   ]
  },
  {
   "cell_type": "markdown",
   "metadata": {},
   "source": [
    "# Clean PISCES data"
   ]
  },
  {
   "cell_type": "markdown",
   "metadata": {},
   "source": [
    "PISCES: https://academic.oup.com/bioinformatics/article/19/12/1589/258419"
   ]
  },
  {
   "cell_type": "markdown",
   "metadata": {},
   "source": [
    "PISCES datasets are composed of lists of PDB accession numbers and chain identifiers which have been curated to to contain chains that are relatively non-redundant (percent identity), of particular resolution cutoffs, and composed of X-ray, cryo-electron microscopy, and/or NMR structures.  These are used here to limit the content of the downloaded, .csv transformed, and cleaned secondary structure information from RCSB-PDB (ss.txt and ss.cleaned.csv)."
   ]
  },
  {
   "cell_type": "code",
   "execution_count": 4,
   "metadata": {},
   "outputs": [],
   "source": [
    "# Change the filename to refer to the specific cullpdb* file of interest\n",
    "# with appropriate cutoff criteria\n",
    "\n",
    "pisces_df = pd.read_csv(cullpdb_input,  sep=r'[\\t ]+', engine='python')"
   ]
  },
  {
   "cell_type": "code",
   "execution_count": 5,
   "metadata": {},
   "outputs": [
    {
     "data": {
      "text/html": [
       "<div>\n",
       "<style scoped>\n",
       "    .dataframe tbody tr th:only-of-type {\n",
       "        vertical-align: middle;\n",
       "    }\n",
       "\n",
       "    .dataframe tbody tr th {\n",
       "        vertical-align: top;\n",
       "    }\n",
       "\n",
       "    .dataframe thead th {\n",
       "        text-align: right;\n",
       "    }\n",
       "</style>\n",
       "<table border=\"1\" class=\"dataframe\">\n",
       "  <thead>\n",
       "    <tr style=\"text-align: right;\">\n",
       "      <th></th>\n",
       "      <th>PDBchain</th>\n",
       "      <th>len</th>\n",
       "      <th>method</th>\n",
       "      <th>resol</th>\n",
       "      <th>rfac</th>\n",
       "      <th>freerfac</th>\n",
       "    </tr>\n",
       "  </thead>\n",
       "  <tbody>\n",
       "    <tr>\n",
       "      <th>0</th>\n",
       "      <td>5D8VA</td>\n",
       "      <td>83</td>\n",
       "      <td>XRAY</td>\n",
       "      <td>0.48</td>\n",
       "      <td>0.072</td>\n",
       "      <td>0.078</td>\n",
       "    </tr>\n",
       "    <tr>\n",
       "      <th>1</th>\n",
       "      <td>3NIRA</td>\n",
       "      <td>46</td>\n",
       "      <td>XRAY</td>\n",
       "      <td>0.48</td>\n",
       "      <td>0.127</td>\n",
       "      <td>NaN</td>\n",
       "    </tr>\n",
       "  </tbody>\n",
       "</table>\n",
       "</div>"
      ],
      "text/plain": [
       "  PDBchain  len method  resol   rfac  freerfac\n",
       "0    5D8VA   83   XRAY   0.48  0.072     0.078\n",
       "1    3NIRA   46   XRAY   0.48  0.127       NaN"
      ]
     },
     "execution_count": 5,
     "metadata": {},
     "output_type": "execute_result"
    }
   ],
   "source": [
    "pisces_df.head(2)"
   ]
  },
  {
   "cell_type": "code",
   "execution_count": 6,
   "metadata": {},
   "outputs": [
    {
     "data": {
      "text/plain": [
       "(15208, 6)"
      ]
     },
     "execution_count": 6,
     "metadata": {},
     "output_type": "execute_result"
    }
   ],
   "source": [
    "pisces_df.shape"
   ]
  },
  {
   "cell_type": "markdown",
   "metadata": {},
   "source": [
    "**Note that in the original dataset from 2018, the column names were:***\n",
    "\n",
    "```IDs length Exptl. resolution R-factor FreeRvalue```\n",
    "\n",
    "**The following code has been changed to refer to the new column names shown above.***"
   ]
  },
  {
   "cell_type": "code",
   "execution_count": 7,
   "metadata": {},
   "outputs": [],
   "source": [
    "# make sure IDs values are all unique\n",
    "assert pisces_df.PDBchain.unique().shape[0] == pisces_df.shape[0]"
   ]
  },
  {
   "cell_type": "code",
   "execution_count": 8,
   "metadata": {},
   "outputs": [
    {
     "name": "stdout",
     "output_type": "stream",
     "text": [
      "CPU times: user 2.78 s, sys: 35.2 ms, total: 2.82 s\n",
      "Wall time: 2.83 s\n"
     ]
    }
   ],
   "source": [
    "%%time\n",
    "# For explanantion of chain code: http://dunbrack.fccc.edu/Guoli/pisces_download.php\n",
    "pdb_id_chain_ids = pisces_df.PDBchain.apply(\n",
    "    lambda s: pd.Series([s, s[:4], s[4]], index=['PDBchain', 'pdb_id', 'chain_code']))"
   ]
  },
  {
   "cell_type": "code",
   "execution_count": 9,
   "metadata": {},
   "outputs": [
    {
     "data": {
      "text/html": [
       "<div>\n",
       "<style scoped>\n",
       "    .dataframe tbody tr th:only-of-type {\n",
       "        vertical-align: middle;\n",
       "    }\n",
       "\n",
       "    .dataframe tbody tr th {\n",
       "        vertical-align: top;\n",
       "    }\n",
       "\n",
       "    .dataframe thead th {\n",
       "        text-align: right;\n",
       "    }\n",
       "</style>\n",
       "<table border=\"1\" class=\"dataframe\">\n",
       "  <thead>\n",
       "    <tr style=\"text-align: right;\">\n",
       "      <th></th>\n",
       "      <th>PDBchain</th>\n",
       "      <th>pdb_id</th>\n",
       "      <th>chain_code</th>\n",
       "    </tr>\n",
       "  </thead>\n",
       "  <tbody>\n",
       "    <tr>\n",
       "      <th>0</th>\n",
       "      <td>5D8VA</td>\n",
       "      <td>5D8V</td>\n",
       "      <td>A</td>\n",
       "    </tr>\n",
       "    <tr>\n",
       "      <th>1</th>\n",
       "      <td>3NIRA</td>\n",
       "      <td>3NIR</td>\n",
       "      <td>A</td>\n",
       "    </tr>\n",
       "    <tr>\n",
       "      <th>2</th>\n",
       "      <td>5NW3A</td>\n",
       "      <td>5NW3</td>\n",
       "      <td>A</td>\n",
       "    </tr>\n",
       "    <tr>\n",
       "      <th>3</th>\n",
       "      <td>1UCSA</td>\n",
       "      <td>1UCS</td>\n",
       "      <td>A</td>\n",
       "    </tr>\n",
       "    <tr>\n",
       "      <th>4</th>\n",
       "      <td>3X2MA</td>\n",
       "      <td>3X2M</td>\n",
       "      <td>A</td>\n",
       "    </tr>\n",
       "  </tbody>\n",
       "</table>\n",
       "</div>"
      ],
      "text/plain": [
       "  PDBchain pdb_id chain_code\n",
       "0    5D8VA   5D8V          A\n",
       "1    3NIRA   3NIR          A\n",
       "2    5NW3A   5NW3          A\n",
       "3    1UCSA   1UCS          A\n",
       "4    3X2MA   3X2M          A"
      ]
     },
     "execution_count": 9,
     "metadata": {},
     "output_type": "execute_result"
    }
   ],
   "source": [
    "pdb_id_chain_ids.head()\n",
    "\n",
    "# The column name PDBchain was previously IDs"
   ]
  },
  {
   "cell_type": "code",
   "execution_count": 10,
   "metadata": {},
   "outputs": [],
   "source": [
    "# replaced PDBchain column with (pdb_id, chain_code) columns\n",
    "out_df = pisces_df.merge(pdb_id_chain_ids, on='PDBchain').drop('PDBchain', axis=1)"
   ]
  },
  {
   "cell_type": "code",
   "execution_count": 11,
   "metadata": {},
   "outputs": [
    {
     "data": {
      "text/html": [
       "<div>\n",
       "<style scoped>\n",
       "    .dataframe tbody tr th:only-of-type {\n",
       "        vertical-align: middle;\n",
       "    }\n",
       "\n",
       "    .dataframe tbody tr th {\n",
       "        vertical-align: top;\n",
       "    }\n",
       "\n",
       "    .dataframe thead th {\n",
       "        text-align: right;\n",
       "    }\n",
       "</style>\n",
       "<table border=\"1\" class=\"dataframe\">\n",
       "  <thead>\n",
       "    <tr style=\"text-align: right;\">\n",
       "      <th></th>\n",
       "      <th>len</th>\n",
       "      <th>method</th>\n",
       "      <th>resol</th>\n",
       "      <th>rfac</th>\n",
       "      <th>freerfac</th>\n",
       "      <th>pdb_id</th>\n",
       "      <th>chain_code</th>\n",
       "    </tr>\n",
       "  </thead>\n",
       "  <tbody>\n",
       "    <tr>\n",
       "      <th>0</th>\n",
       "      <td>83</td>\n",
       "      <td>XRAY</td>\n",
       "      <td>0.48</td>\n",
       "      <td>0.072</td>\n",
       "      <td>0.078</td>\n",
       "      <td>5D8V</td>\n",
       "      <td>A</td>\n",
       "    </tr>\n",
       "    <tr>\n",
       "      <th>1</th>\n",
       "      <td>46</td>\n",
       "      <td>XRAY</td>\n",
       "      <td>0.48</td>\n",
       "      <td>0.127</td>\n",
       "      <td>NaN</td>\n",
       "      <td>3NIR</td>\n",
       "      <td>A</td>\n",
       "    </tr>\n",
       "    <tr>\n",
       "      <th>2</th>\n",
       "      <td>54</td>\n",
       "      <td>XRAY</td>\n",
       "      <td>0.59</td>\n",
       "      <td>0.135</td>\n",
       "      <td>0.146</td>\n",
       "      <td>5NW3</td>\n",
       "      <td>A</td>\n",
       "    </tr>\n",
       "    <tr>\n",
       "      <th>3</th>\n",
       "      <td>64</td>\n",
       "      <td>XRAY</td>\n",
       "      <td>0.62</td>\n",
       "      <td>0.139</td>\n",
       "      <td>0.155</td>\n",
       "      <td>1UCS</td>\n",
       "      <td>A</td>\n",
       "    </tr>\n",
       "    <tr>\n",
       "      <th>4</th>\n",
       "      <td>180</td>\n",
       "      <td>XRAY</td>\n",
       "      <td>0.64</td>\n",
       "      <td>0.122</td>\n",
       "      <td>0.129</td>\n",
       "      <td>3X2M</td>\n",
       "      <td>A</td>\n",
       "    </tr>\n",
       "  </tbody>\n",
       "</table>\n",
       "</div>"
      ],
      "text/plain": [
       "   len method  resol   rfac  freerfac pdb_id chain_code\n",
       "0   83   XRAY   0.48  0.072     0.078   5D8V          A\n",
       "1   46   XRAY   0.48  0.127       NaN   3NIR          A\n",
       "2   54   XRAY   0.59  0.135     0.146   5NW3          A\n",
       "3   64   XRAY   0.62  0.139     0.155   1UCS          A\n",
       "4  180   XRAY   0.64  0.122     0.129   3X2M          A"
      ]
     },
     "execution_count": 11,
     "metadata": {},
     "output_type": "execute_result"
    }
   ],
   "source": [
    "out_df.head()"
   ]
  },
  {
   "cell_type": "markdown",
   "metadata": {},
   "source": [
    "# Intersect with pdb"
   ]
  },
  {
   "cell_type": "markdown",
   "metadata": {},
   "source": [
    "The ss.cleaned.csv.gz file is generated using Clean-pdb-ss-csv.ipynb"
   ]
  },
  {
   "cell_type": "code",
   "execution_count": null,
   "metadata": {},
   "outputs": [],
   "source": [
    "%%time\n",
    "adf = pd.read_csv(cleaned_ss, dtype=str)"
   ]
  },
  {
   "cell_type": "code",
   "execution_count": null,
   "metadata": {},
   "outputs": [],
   "source": [
    "adf['len'] = adf['len'].astype(int)"
   ]
  },
  {
   "cell_type": "code",
   "execution_count": null,
   "metadata": {},
   "outputs": [],
   "source": [
    "adf.shape"
   ]
  },
  {
   "cell_type": "code",
   "execution_count": null,
   "metadata": {},
   "outputs": [],
   "source": [
    "adf.head()"
   ]
  },
  {
   "cell_type": "code",
   "execution_count": null,
   "metadata": {},
   "outputs": [],
   "source": [
    "%time bdf = adf.merge(out_df, on=['pdb_id', 'chain_code'])"
   ]
  },
  {
   "cell_type": "code",
   "execution_count": null,
   "metadata": {},
   "outputs": [],
   "source": [
    "bdf.shape"
   ]
  },
  {
   "cell_type": "code",
   "execution_count": null,
   "metadata": {},
   "outputs": [],
   "source": [
    "bdf.head(2)"
   ]
  },
  {
   "cell_type": "code",
   "execution_count": null,
   "metadata": {},
   "outputs": [],
   "source": [
    "bdf.describe()"
   ]
  },
  {
   "cell_type": "markdown",
   "metadata": {},
   "source": [
    "### Check that lengths from PDB ss.txt and cullpdb match"
   ]
  },
  {
   "cell_type": "code",
   "execution_count": null,
   "metadata": {},
   "outputs": [],
   "source": [
    "bdf.query('len_x != len_y')"
   ]
  },
  {
   "cell_type": "markdown",
   "metadata": {},
   "source": [
    "#### They don't match, so check which (if either) is correct"
   ]
  },
  {
   "cell_type": "code",
   "execution_count": null,
   "metadata": {},
   "outputs": [],
   "source": [
    "q = bdf.query('len_x != len_y')\n",
    "\n",
    "print(\"seq = \", [len(s) for s in q.seq])\n",
    "print(\"sst8 = \", [len(s) for s in q.sst8])\n",
    "print('sst3 = ', [len(s) for s in q.sst3])"
   ]
  },
  {
   "cell_type": "markdown",
   "metadata": {},
   "source": [
    "PDB ss.txt is accurate, which is consistent with the original dataset findings from 2018.\n",
    "\n",
    "Original note:\n",
    "\n",
    "Verified that the `ss.txt.gz` from pdb is more update-to-date (see [fasta](https://www.rcsb.org/pdb/download/viewFastaFiles.do?structureIdList=5LTR&compressionType=uncompressed)), so drop `length` column"
   ]
  },
  {
   "cell_type": "code",
   "execution_count": null,
   "metadata": {},
   "outputs": [],
   "source": [
    "bdf.len_x.plot.hist(bins=20)"
   ]
  },
  {
   "cell_type": "code",
   "execution_count": null,
   "metadata": {},
   "outputs": [],
   "source": [
    "bdf.head(2)"
   ]
  },
  {
   "cell_type": "markdown",
   "metadata": {},
   "source": [
    "# Get a sense of sst distribution"
   ]
  },
  {
   "cell_type": "code",
   "execution_count": null,
   "metadata": {},
   "outputs": [],
   "source": [
    "sst8_sr = pd.Series(list(''.join(bdf.sst8.values.tolist())))"
   ]
  },
  {
   "cell_type": "code",
   "execution_count": null,
   "metadata": {},
   "outputs": [],
   "source": [
    "sst8_sr.value_counts().plot.bar()"
   ]
  },
  {
   "cell_type": "code",
   "execution_count": null,
   "metadata": {},
   "outputs": [],
   "source": [
    "sst3_sr = pd.Series(list(''.join(bdf.sst3.values.tolist())))"
   ]
  },
  {
   "cell_type": "code",
   "execution_count": null,
   "metadata": {},
   "outputs": [],
   "source": [
    "sst3_sr.value_counts().plot.bar()"
   ]
  },
  {
   "cell_type": "markdown",
   "metadata": {},
   "source": [
    "# Get a sense of aa distribution"
   ]
  },
  {
   "cell_type": "code",
   "execution_count": null,
   "metadata": {},
   "outputs": [],
   "source": [
    "aa_sr = sst_sr = pd.Series(list(''.join(bdf.seq.values.tolist())))"
   ]
  },
  {
   "cell_type": "code",
   "execution_count": null,
   "metadata": {},
   "outputs": [],
   "source": [
    "aa_sr.value_counts().plot.bar()"
   ]
  },
  {
   "cell_type": "code",
   "execution_count": null,
   "metadata": {},
   "outputs": [],
   "source": [
    "bdf.to_csv(intersect_output, index=False)"
   ]
  },
  {
   "cell_type": "code",
   "execution_count": null,
   "metadata": {},
   "outputs": [],
   "source": []
  }
 ],
 "metadata": {
  "anaconda-cloud": {},
  "kernelspec": {
   "display_name": "Python 3 (ipykernel)",
   "language": "python",
   "name": "python3"
  },
  "language_info": {
   "codemirror_mode": {
    "name": "ipython",
    "version": 3
   },
   "file_extension": ".py",
   "mimetype": "text/x-python",
   "name": "python",
   "nbconvert_exporter": "python",
   "pygments_lexer": "ipython3",
   "version": "3.10.9"
  }
 },
 "nbformat": 4,
 "nbformat_minor": 2
}
