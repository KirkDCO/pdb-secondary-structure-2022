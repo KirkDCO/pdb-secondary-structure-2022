{
 "cells": [
  {
   "cell_type": "code",
   "execution_count": 16,
   "metadata": {},
   "outputs": [],
   "source": [
    "import datetime\n",
    "import pandas as pd\n",
    "import matplotlib as mpl"
   ]
  },
  {
   "cell_type": "code",
   "execution_count": 17,
   "metadata": {},
   "outputs": [],
   "source": [
    "%matplotlib inline\n",
    "mpl.style.use('classic')"
   ]
  },
  {
   "cell_type": "markdown",
   "metadata": {},
   "source": [
    "# Clean PISCES data"
   ]
  },
  {
   "cell_type": "markdown",
   "metadata": {},
   "source": [
    "PISCE: https://academic.oup.com/bioinformatics/article/19/12/1589/258419"
   ]
  },
  {
   "cell_type": "markdown",
   "metadata": {},
   "source": [
    "PISCES datasets are composed of lists of PDB accession numbers and chain identifiers which have been curated to to contain chains that are relatively non-redundant (percent identity), of particular resolution cutoffs, and composed of X-ray, cryo-electron microscopy, and/or NMR structures.  These are used here to limit the content of the downloaded, .csv transformed, and cleaned secondary structure information from RCSB-PDB (ss.txt and ss.cleaned.csv)."
   ]
  },
  {
   "cell_type": "code",
   "execution_count": 18,
   "metadata": {},
   "outputs": [],
   "source": [
    "# Change the filename to refer to the specific cullpdb* file of interest\n",
    "# with appropriate cutoff criteria\n",
    "\n",
    "pisces_df = pd.read_csv('./raw_data/cullpdb_pc30.0_res0.0-2.5_len40-10000_R0.3_Xray_d2022_07_23_chains15023.gz',  sep=r'[\\t ]+', engine='python')"
   ]
  },
  {
   "cell_type": "code",
   "execution_count": 19,
   "metadata": {},
   "outputs": [
    {
     "data": {
      "text/html": [
       "<div>\n",
       "<style scoped>\n",
       "    .dataframe tbody tr th:only-of-type {\n",
       "        vertical-align: middle;\n",
       "    }\n",
       "\n",
       "    .dataframe tbody tr th {\n",
       "        vertical-align: top;\n",
       "    }\n",
       "\n",
       "    .dataframe thead th {\n",
       "        text-align: right;\n",
       "    }\n",
       "</style>\n",
       "<table border=\"1\" class=\"dataframe\">\n",
       "  <thead>\n",
       "    <tr style=\"text-align: right;\">\n",
       "      <th></th>\n",
       "      <th>PDBchain</th>\n",
       "      <th>len</th>\n",
       "      <th>method</th>\n",
       "      <th>resol</th>\n",
       "      <th>rfac</th>\n",
       "      <th>freerfac</th>\n",
       "    </tr>\n",
       "  </thead>\n",
       "  <tbody>\n",
       "    <tr>\n",
       "      <th>0</th>\n",
       "      <td>5D8VA</td>\n",
       "      <td>83</td>\n",
       "      <td>XRAY</td>\n",
       "      <td>0.48</td>\n",
       "      <td>0.072</td>\n",
       "      <td>0.078</td>\n",
       "    </tr>\n",
       "    <tr>\n",
       "      <th>1</th>\n",
       "      <td>3NIRA</td>\n",
       "      <td>46</td>\n",
       "      <td>XRAY</td>\n",
       "      <td>0.48</td>\n",
       "      <td>0.127</td>\n",
       "      <td>NaN</td>\n",
       "    </tr>\n",
       "  </tbody>\n",
       "</table>\n",
       "</div>"
      ],
      "text/plain": [
       "  PDBchain  len method  resol   rfac  freerfac\n",
       "0    5D8VA   83   XRAY   0.48  0.072     0.078\n",
       "1    3NIRA   46   XRAY   0.48  0.127       NaN"
      ]
     },
     "execution_count": 19,
     "metadata": {},
     "output_type": "execute_result"
    }
   ],
   "source": [
    "pisces_df.head(2)"
   ]
  },
  {
   "cell_type": "code",
   "execution_count": 20,
   "metadata": {},
   "outputs": [
    {
     "data": {
      "text/plain": [
       "(15023, 6)"
      ]
     },
     "execution_count": 20,
     "metadata": {},
     "output_type": "execute_result"
    }
   ],
   "source": [
    "pisces_df.shape"
   ]
  },
  {
   "cell_type": "markdown",
   "metadata": {},
   "source": [
    "**Note that in the original dataset from 2018, the column names were:***\n",
    "\n",
    "```IDs length Exptl. resolution R-factor FreeRvalue```\n",
    "\n",
    "**The following code has been changed to refer to the new column names shown above.***"
   ]
  },
  {
   "cell_type": "code",
   "execution_count": 21,
   "metadata": {},
   "outputs": [],
   "source": [
    "# make sure IDs values are all unique\n",
    "assert pisces_df.PDBchain.unique().shape[0] == pisces_df.shape[0]"
   ]
  },
  {
   "cell_type": "code",
   "execution_count": 22,
   "metadata": {},
   "outputs": [
    {
     "name": "stdout",
     "output_type": "stream",
     "text": [
      "CPU times: user 2.89 s, sys: 28.5 ms, total: 2.92 s\n",
      "Wall time: 2.92 s\n"
     ]
    }
   ],
   "source": [
    "%%time\n",
    "# For explanantion of chain code: http://dunbrack.fccc.edu/Guoli/pisces_download.php\n",
    "pdb_id_chain_ids = pisces_df.PDBchain.apply(\n",
    "    lambda s: pd.Series([s, s[:4], s[4]], index=['PDBchain', 'pdb_id', 'chain_code']))"
   ]
  },
  {
   "cell_type": "code",
   "execution_count": 23,
   "metadata": {},
   "outputs": [
    {
     "data": {
      "text/html": [
       "<div>\n",
       "<style scoped>\n",
       "    .dataframe tbody tr th:only-of-type {\n",
       "        vertical-align: middle;\n",
       "    }\n",
       "\n",
       "    .dataframe tbody tr th {\n",
       "        vertical-align: top;\n",
       "    }\n",
       "\n",
       "    .dataframe thead th {\n",
       "        text-align: right;\n",
       "    }\n",
       "</style>\n",
       "<table border=\"1\" class=\"dataframe\">\n",
       "  <thead>\n",
       "    <tr style=\"text-align: right;\">\n",
       "      <th></th>\n",
       "      <th>PDBchain</th>\n",
       "      <th>pdb_id</th>\n",
       "      <th>chain_code</th>\n",
       "    </tr>\n",
       "  </thead>\n",
       "  <tbody>\n",
       "    <tr>\n",
       "      <th>0</th>\n",
       "      <td>5D8VA</td>\n",
       "      <td>5D8V</td>\n",
       "      <td>A</td>\n",
       "    </tr>\n",
       "    <tr>\n",
       "      <th>1</th>\n",
       "      <td>3NIRA</td>\n",
       "      <td>3NIR</td>\n",
       "      <td>A</td>\n",
       "    </tr>\n",
       "    <tr>\n",
       "      <th>2</th>\n",
       "      <td>5NW3A</td>\n",
       "      <td>5NW3</td>\n",
       "      <td>A</td>\n",
       "    </tr>\n",
       "    <tr>\n",
       "      <th>3</th>\n",
       "      <td>1UCSA</td>\n",
       "      <td>1UCS</td>\n",
       "      <td>A</td>\n",
       "    </tr>\n",
       "    <tr>\n",
       "      <th>4</th>\n",
       "      <td>3X2MA</td>\n",
       "      <td>3X2M</td>\n",
       "      <td>A</td>\n",
       "    </tr>\n",
       "  </tbody>\n",
       "</table>\n",
       "</div>"
      ],
      "text/plain": [
       "  PDBchain pdb_id chain_code\n",
       "0    5D8VA   5D8V          A\n",
       "1    3NIRA   3NIR          A\n",
       "2    5NW3A   5NW3          A\n",
       "3    1UCSA   1UCS          A\n",
       "4    3X2MA   3X2M          A"
      ]
     },
     "execution_count": 23,
     "metadata": {},
     "output_type": "execute_result"
    }
   ],
   "source": [
    "pdb_id_chain_ids.head()\n",
    "\n",
    "# The column name PDBchain was previously IDs"
   ]
  },
  {
   "cell_type": "code",
   "execution_count": 24,
   "metadata": {},
   "outputs": [],
   "source": [
    "# replaced PDBchain column with (pdb_id, chain_code) columns\n",
    "out_df = pisces_df.merge(pdb_id_chain_ids, on='PDBchain').drop('PDBchain', axis=1)"
   ]
  },
  {
   "cell_type": "code",
   "execution_count": 25,
   "metadata": {},
   "outputs": [
    {
     "data": {
      "text/html": [
       "<div>\n",
       "<style scoped>\n",
       "    .dataframe tbody tr th:only-of-type {\n",
       "        vertical-align: middle;\n",
       "    }\n",
       "\n",
       "    .dataframe tbody tr th {\n",
       "        vertical-align: top;\n",
       "    }\n",
       "\n",
       "    .dataframe thead th {\n",
       "        text-align: right;\n",
       "    }\n",
       "</style>\n",
       "<table border=\"1\" class=\"dataframe\">\n",
       "  <thead>\n",
       "    <tr style=\"text-align: right;\">\n",
       "      <th></th>\n",
       "      <th>len</th>\n",
       "      <th>method</th>\n",
       "      <th>resol</th>\n",
       "      <th>rfac</th>\n",
       "      <th>freerfac</th>\n",
       "      <th>pdb_id</th>\n",
       "      <th>chain_code</th>\n",
       "    </tr>\n",
       "  </thead>\n",
       "  <tbody>\n",
       "    <tr>\n",
       "      <th>0</th>\n",
       "      <td>83</td>\n",
       "      <td>XRAY</td>\n",
       "      <td>0.48</td>\n",
       "      <td>0.072</td>\n",
       "      <td>0.078</td>\n",
       "      <td>5D8V</td>\n",
       "      <td>A</td>\n",
       "    </tr>\n",
       "    <tr>\n",
       "      <th>1</th>\n",
       "      <td>46</td>\n",
       "      <td>XRAY</td>\n",
       "      <td>0.48</td>\n",
       "      <td>0.127</td>\n",
       "      <td>NaN</td>\n",
       "      <td>3NIR</td>\n",
       "      <td>A</td>\n",
       "    </tr>\n",
       "    <tr>\n",
       "      <th>2</th>\n",
       "      <td>54</td>\n",
       "      <td>XRAY</td>\n",
       "      <td>0.59</td>\n",
       "      <td>0.135</td>\n",
       "      <td>0.146</td>\n",
       "      <td>5NW3</td>\n",
       "      <td>A</td>\n",
       "    </tr>\n",
       "    <tr>\n",
       "      <th>3</th>\n",
       "      <td>64</td>\n",
       "      <td>XRAY</td>\n",
       "      <td>0.62</td>\n",
       "      <td>0.139</td>\n",
       "      <td>0.155</td>\n",
       "      <td>1UCS</td>\n",
       "      <td>A</td>\n",
       "    </tr>\n",
       "    <tr>\n",
       "      <th>4</th>\n",
       "      <td>180</td>\n",
       "      <td>XRAY</td>\n",
       "      <td>0.64</td>\n",
       "      <td>0.122</td>\n",
       "      <td>0.129</td>\n",
       "      <td>3X2M</td>\n",
       "      <td>A</td>\n",
       "    </tr>\n",
       "  </tbody>\n",
       "</table>\n",
       "</div>"
      ],
      "text/plain": [
       "   len method  resol   rfac  freerfac pdb_id chain_code\n",
       "0   83   XRAY   0.48  0.072     0.078   5D8V          A\n",
       "1   46   XRAY   0.48  0.127       NaN   3NIR          A\n",
       "2   54   XRAY   0.59  0.135     0.146   5NW3          A\n",
       "3   64   XRAY   0.62  0.139     0.155   1UCS          A\n",
       "4  180   XRAY   0.64  0.122     0.129   3X2M          A"
      ]
     },
     "execution_count": 25,
     "metadata": {},
     "output_type": "execute_result"
    }
   ],
   "source": [
    "out_df.head()"
   ]
  },
  {
   "cell_type": "markdown",
   "metadata": {},
   "source": [
    "# Intersect with pdb"
   ]
  },
  {
   "cell_type": "code",
   "execution_count": 29,
   "metadata": {},
   "outputs": [
    {
     "name": "stdout",
     "output_type": "stream",
     "text": [
      "CPU times: user 2.81 s, sys: 218 ms, total: 3.03 s\n",
      "Wall time: 3.09 s\n"
     ]
    }
   ],
   "source": [
    "%%time\n",
    "adf = pd.read_csv('./raw_data/2022-08-03-ss.cleaned.csv', dtype=str)"
   ]
  },
  {
   "cell_type": "code",
   "execution_count": 30,
   "metadata": {},
   "outputs": [],
   "source": [
    "adf['len'] = adf['len'].astype(int)"
   ]
  },
  {
   "cell_type": "code",
   "execution_count": 31,
   "metadata": {},
   "outputs": [
    {
     "data": {
      "text/plain": [
       "(477153, 7)"
      ]
     },
     "execution_count": 31,
     "metadata": {},
     "output_type": "execute_result"
    }
   ],
   "source": [
    "adf.shape"
   ]
  },
  {
   "cell_type": "code",
   "execution_count": 32,
   "metadata": {},
   "outputs": [
    {
     "data": {
      "text/html": [
       "<div>\n",
       "<style scoped>\n",
       "    .dataframe tbody tr th:only-of-type {\n",
       "        vertical-align: middle;\n",
       "    }\n",
       "\n",
       "    .dataframe tbody tr th {\n",
       "        vertical-align: top;\n",
       "    }\n",
       "\n",
       "    .dataframe thead th {\n",
       "        text-align: right;\n",
       "    }\n",
       "</style>\n",
       "<table border=\"1\" class=\"dataframe\">\n",
       "  <thead>\n",
       "    <tr style=\"text-align: right;\">\n",
       "      <th></th>\n",
       "      <th>pdb_id</th>\n",
       "      <th>chain_code</th>\n",
       "      <th>seq</th>\n",
       "      <th>sst8</th>\n",
       "      <th>sst3</th>\n",
       "      <th>len</th>\n",
       "      <th>has_nonstd_aa</th>\n",
       "    </tr>\n",
       "  </thead>\n",
       "  <tbody>\n",
       "    <tr>\n",
       "      <th>0</th>\n",
       "      <td>1A30</td>\n",
       "      <td>C</td>\n",
       "      <td>EDL</td>\n",
       "      <td>CBC</td>\n",
       "      <td>CEC</td>\n",
       "      <td>3</td>\n",
       "      <td>False</td>\n",
       "    </tr>\n",
       "    <tr>\n",
       "      <th>1</th>\n",
       "      <td>1B05</td>\n",
       "      <td>B</td>\n",
       "      <td>KCK</td>\n",
       "      <td>CBC</td>\n",
       "      <td>CEC</td>\n",
       "      <td>3</td>\n",
       "      <td>False</td>\n",
       "    </tr>\n",
       "    <tr>\n",
       "      <th>2</th>\n",
       "      <td>1B0H</td>\n",
       "      <td>B</td>\n",
       "      <td>KAK</td>\n",
       "      <td>CBC</td>\n",
       "      <td>CEC</td>\n",
       "      <td>3</td>\n",
       "      <td>False</td>\n",
       "    </tr>\n",
       "    <tr>\n",
       "      <th>3</th>\n",
       "      <td>1B1H</td>\n",
       "      <td>B</td>\n",
       "      <td>KFK</td>\n",
       "      <td>CBC</td>\n",
       "      <td>CEC</td>\n",
       "      <td>3</td>\n",
       "      <td>False</td>\n",
       "    </tr>\n",
       "    <tr>\n",
       "      <th>4</th>\n",
       "      <td>1B2H</td>\n",
       "      <td>B</td>\n",
       "      <td>KAK</td>\n",
       "      <td>CBC</td>\n",
       "      <td>CEC</td>\n",
       "      <td>3</td>\n",
       "      <td>False</td>\n",
       "    </tr>\n",
       "  </tbody>\n",
       "</table>\n",
       "</div>"
      ],
      "text/plain": [
       "  pdb_id chain_code  seq sst8 sst3  len has_nonstd_aa\n",
       "0   1A30          C  EDL  CBC  CEC    3         False\n",
       "1   1B05          B  KCK  CBC  CEC    3         False\n",
       "2   1B0H          B  KAK  CBC  CEC    3         False\n",
       "3   1B1H          B  KFK  CBC  CEC    3         False\n",
       "4   1B2H          B  KAK  CBC  CEC    3         False"
      ]
     },
     "execution_count": 32,
     "metadata": {},
     "output_type": "execute_result"
    }
   ],
   "source": [
    "adf.head()"
   ]
  },
  {
   "cell_type": "code",
   "execution_count": 33,
   "metadata": {},
   "outputs": [
    {
     "name": "stdout",
     "output_type": "stream",
     "text": [
      "CPU times: user 132 ms, sys: 9.99 ms, total: 142 ms\n",
      "Wall time: 141 ms\n"
     ]
    }
   ],
   "source": [
    "%time bdf = adf.merge(out_df, on=['pdb_id', 'chain_code'])"
   ]
  },
  {
   "cell_type": "code",
   "execution_count": 34,
   "metadata": {},
   "outputs": [
    {
     "data": {
      "text/plain": [
       "(13406, 12)"
      ]
     },
     "execution_count": 34,
     "metadata": {},
     "output_type": "execute_result"
    }
   ],
   "source": [
    "bdf.shape"
   ]
  },
  {
   "cell_type": "code",
   "execution_count": 35,
   "metadata": {},
   "outputs": [
    {
     "data": {
      "text/html": [
       "<div>\n",
       "<style scoped>\n",
       "    .dataframe tbody tr th:only-of-type {\n",
       "        vertical-align: middle;\n",
       "    }\n",
       "\n",
       "    .dataframe tbody tr th {\n",
       "        vertical-align: top;\n",
       "    }\n",
       "\n",
       "    .dataframe thead th {\n",
       "        text-align: right;\n",
       "    }\n",
       "</style>\n",
       "<table border=\"1\" class=\"dataframe\">\n",
       "  <thead>\n",
       "    <tr style=\"text-align: right;\">\n",
       "      <th></th>\n",
       "      <th>pdb_id</th>\n",
       "      <th>chain_code</th>\n",
       "      <th>seq</th>\n",
       "      <th>sst8</th>\n",
       "      <th>sst3</th>\n",
       "      <th>len_x</th>\n",
       "      <th>has_nonstd_aa</th>\n",
       "      <th>len_y</th>\n",
       "      <th>method</th>\n",
       "      <th>resol</th>\n",
       "      <th>rfac</th>\n",
       "      <th>freerfac</th>\n",
       "    </tr>\n",
       "  </thead>\n",
       "  <tbody>\n",
       "    <tr>\n",
       "      <th>0</th>\n",
       "      <td>1VZJ</td>\n",
       "      <td>A</td>\n",
       "      <td>DTLDEAERQWKAEFHRWSSYMVHWKNQFDHYSKQDRCSDL</td>\n",
       "      <td>CCCTTHHHHHHHHHHHHHHHHHHHHHHCCCCCCCCCCCCC</td>\n",
       "      <td>CCCCCHHHHHHHHHHHHHHHHHHHHHHCCCCCCCCCCCCC</td>\n",
       "      <td>40</td>\n",
       "      <td>False</td>\n",
       "      <td>40</td>\n",
       "      <td>XRAY</td>\n",
       "      <td>2.35</td>\n",
       "      <td>0.247</td>\n",
       "      <td>0.259</td>\n",
       "    </tr>\n",
       "    <tr>\n",
       "      <th>1</th>\n",
       "      <td>2D7D</td>\n",
       "      <td>B</td>\n",
       "      <td>KERQKVVEQMEHEMKEAAKALDFERAAELRDLLLELKAEG</td>\n",
       "      <td>CHHHHHHHHHHHHHHHHHHTTCHHHHHHHHHHHHHHHCCC</td>\n",
       "      <td>CHHHHHHHHHHHHHHHHHHCCCHHHHHHHHHHHHHHHCCC</td>\n",
       "      <td>40</td>\n",
       "      <td>False</td>\n",
       "      <td>40</td>\n",
       "      <td>XRAY</td>\n",
       "      <td>2.10</td>\n",
       "      <td>0.230</td>\n",
       "      <td>0.285</td>\n",
       "    </tr>\n",
       "  </tbody>\n",
       "</table>\n",
       "</div>"
      ],
      "text/plain": [
       "  pdb_id chain_code                                       seq  \\\n",
       "0   1VZJ          A  DTLDEAERQWKAEFHRWSSYMVHWKNQFDHYSKQDRCSDL   \n",
       "1   2D7D          B  KERQKVVEQMEHEMKEAAKALDFERAAELRDLLLELKAEG   \n",
       "\n",
       "                                       sst8  \\\n",
       "0  CCCTTHHHHHHHHHHHHHHHHHHHHHHCCCCCCCCCCCCC   \n",
       "1  CHHHHHHHHHHHHHHHHHHTTCHHHHHHHHHHHHHHHCCC   \n",
       "\n",
       "                                       sst3  len_x has_nonstd_aa  len_y  \\\n",
       "0  CCCCCHHHHHHHHHHHHHHHHHHHHHHCCCCCCCCCCCCC     40         False     40   \n",
       "1  CHHHHHHHHHHHHHHHHHHCCCHHHHHHHHHHHHHHHCCC     40         False     40   \n",
       "\n",
       "  method  resol   rfac  freerfac  \n",
       "0   XRAY   2.35  0.247     0.259  \n",
       "1   XRAY   2.10  0.230     0.285  "
      ]
     },
     "execution_count": 35,
     "metadata": {},
     "output_type": "execute_result"
    }
   ],
   "source": [
    "bdf.head(2)"
   ]
  },
  {
   "cell_type": "code",
   "execution_count": 36,
   "metadata": {},
   "outputs": [
    {
     "data": {
      "text/html": [
       "<div>\n",
       "<style scoped>\n",
       "    .dataframe tbody tr th:only-of-type {\n",
       "        vertical-align: middle;\n",
       "    }\n",
       "\n",
       "    .dataframe tbody tr th {\n",
       "        vertical-align: top;\n",
       "    }\n",
       "\n",
       "    .dataframe thead th {\n",
       "        text-align: right;\n",
       "    }\n",
       "</style>\n",
       "<table border=\"1\" class=\"dataframe\">\n",
       "  <thead>\n",
       "    <tr style=\"text-align: right;\">\n",
       "      <th></th>\n",
       "      <th>len_x</th>\n",
       "      <th>len_y</th>\n",
       "      <th>resol</th>\n",
       "      <th>rfac</th>\n",
       "      <th>freerfac</th>\n",
       "    </tr>\n",
       "  </thead>\n",
       "  <tbody>\n",
       "    <tr>\n",
       "      <th>count</th>\n",
       "      <td>13406.000000</td>\n",
       "      <td>13406.000000</td>\n",
       "      <td>13406.000000</td>\n",
       "      <td>13406.000000</td>\n",
       "      <td>13294.000000</td>\n",
       "    </tr>\n",
       "    <tr>\n",
       "      <th>mean</th>\n",
       "      <td>266.052663</td>\n",
       "      <td>266.052514</td>\n",
       "      <td>1.773668</td>\n",
       "      <td>0.183289</td>\n",
       "      <td>0.215845</td>\n",
       "    </tr>\n",
       "    <tr>\n",
       "      <th>std</th>\n",
       "      <td>162.381686</td>\n",
       "      <td>162.381244</td>\n",
       "      <td>0.374467</td>\n",
       "      <td>0.030760</td>\n",
       "      <td>0.035827</td>\n",
       "    </tr>\n",
       "    <tr>\n",
       "      <th>min</th>\n",
       "      <td>40.000000</td>\n",
       "      <td>40.000000</td>\n",
       "      <td>0.480000</td>\n",
       "      <td>0.050000</td>\n",
       "      <td>0.078000</td>\n",
       "    </tr>\n",
       "    <tr>\n",
       "      <th>25%</th>\n",
       "      <td>147.000000</td>\n",
       "      <td>147.000000</td>\n",
       "      <td>1.500000</td>\n",
       "      <td>0.164000</td>\n",
       "      <td>0.192000</td>\n",
       "    </tr>\n",
       "    <tr>\n",
       "      <th>50%</th>\n",
       "      <td>233.000000</td>\n",
       "      <td>233.000000</td>\n",
       "      <td>1.800000</td>\n",
       "      <td>0.184000</td>\n",
       "      <td>0.217000</td>\n",
       "    </tr>\n",
       "    <tr>\n",
       "      <th>75%</th>\n",
       "      <td>344.000000</td>\n",
       "      <td>344.000000</td>\n",
       "      <td>2.002000</td>\n",
       "      <td>0.204000</td>\n",
       "      <td>0.241000</td>\n",
       "    </tr>\n",
       "    <tr>\n",
       "      <th>max</th>\n",
       "      <td>2128.000000</td>\n",
       "      <td>2128.000000</td>\n",
       "      <td>2.500000</td>\n",
       "      <td>0.299000</td>\n",
       "      <td>0.369000</td>\n",
       "    </tr>\n",
       "  </tbody>\n",
       "</table>\n",
       "</div>"
      ],
      "text/plain": [
       "              len_x         len_y         resol          rfac      freerfac\n",
       "count  13406.000000  13406.000000  13406.000000  13406.000000  13294.000000\n",
       "mean     266.052663    266.052514      1.773668      0.183289      0.215845\n",
       "std      162.381686    162.381244      0.374467      0.030760      0.035827\n",
       "min       40.000000     40.000000      0.480000      0.050000      0.078000\n",
       "25%      147.000000    147.000000      1.500000      0.164000      0.192000\n",
       "50%      233.000000    233.000000      1.800000      0.184000      0.217000\n",
       "75%      344.000000    344.000000      2.002000      0.204000      0.241000\n",
       "max     2128.000000   2128.000000      2.500000      0.299000      0.369000"
      ]
     },
     "execution_count": 36,
     "metadata": {},
     "output_type": "execute_result"
    }
   ],
   "source": [
    "bdf.describe()"
   ]
  },
  {
   "cell_type": "markdown",
   "metadata": {},
   "source": [
    "### Check that lengths from PDB ss.txt and cullpdb match"
   ]
  },
  {
   "cell_type": "code",
   "execution_count": 49,
   "metadata": {},
   "outputs": [
    {
     "data": {
      "text/html": [
       "<div>\n",
       "<style scoped>\n",
       "    .dataframe tbody tr th:only-of-type {\n",
       "        vertical-align: middle;\n",
       "    }\n",
       "\n",
       "    .dataframe tbody tr th {\n",
       "        vertical-align: top;\n",
       "    }\n",
       "\n",
       "    .dataframe thead th {\n",
       "        text-align: right;\n",
       "    }\n",
       "</style>\n",
       "<table border=\"1\" class=\"dataframe\">\n",
       "  <thead>\n",
       "    <tr style=\"text-align: right;\">\n",
       "      <th></th>\n",
       "      <th>pdb_id</th>\n",
       "      <th>chain_code</th>\n",
       "      <th>seq</th>\n",
       "      <th>sst8</th>\n",
       "      <th>sst3</th>\n",
       "      <th>len_x</th>\n",
       "      <th>has_nonstd_aa</th>\n",
       "      <th>len_y</th>\n",
       "      <th>method</th>\n",
       "      <th>resol</th>\n",
       "      <th>rfac</th>\n",
       "      <th>freerfac</th>\n",
       "    </tr>\n",
       "  </thead>\n",
       "  <tbody>\n",
       "    <tr>\n",
       "      <th>4822</th>\n",
       "      <td>6SLL</td>\n",
       "      <td>A</td>\n",
       "      <td>WSHPQFEKSGMAVDTGTEVVYRRPEARDGTRVWELIRDTGSLDLNS...</td>\n",
       "      <td>CCCCCCCCCCCCCCCCCCCEEECCCGGGHHHHHHHHHHHSSSCCCC...</td>\n",
       "      <td>CCCCCCCCCCCCCCCCCCCEEECCCHHHHHHHHHHHHHHCCCCCCC...</td>\n",
       "      <td>180</td>\n",
       "      <td>False</td>\n",
       "      <td>186</td>\n",
       "      <td>XRAY</td>\n",
       "      <td>1.20</td>\n",
       "      <td>0.123</td>\n",
       "      <td>0.150</td>\n",
       "    </tr>\n",
       "    <tr>\n",
       "      <th>6581</th>\n",
       "      <td>6L27</td>\n",
       "      <td>A</td>\n",
       "      <td>MGEELFTGVVPILVELDGDVNGHKFSVSGEGEGDATYGKLTLKFIS...</td>\n",
       "      <td>CCGGGGSSCEEEEEEEEEEETTEEEEEEEEEEEEGGGTEEEEEEEE...</td>\n",
       "      <td>CCHHHHCCCEEEEEEEEEEECCEEEEEEEEEEEEHHHCEEEEEEEE...</td>\n",
       "      <td>229</td>\n",
       "      <td>False</td>\n",
       "      <td>227</td>\n",
       "      <td>XRAY</td>\n",
       "      <td>0.77</td>\n",
       "      <td>0.119</td>\n",
       "      <td>0.124</td>\n",
       "    </tr>\n",
       "    <tr>\n",
       "      <th>7053</th>\n",
       "      <td>3NED</td>\n",
       "      <td>A</td>\n",
       "      <td>MGHHHHHHGVSKGEEDNMAIIKEFMRFKTHMEGSVNGHEFEIEGEG...</td>\n",
       "      <td>CCCCCCCCCCCCCCHHHHHHSCSSEEEEEEEEEEETTEEEEEEEEE...</td>\n",
       "      <td>CCCCCCCCCCCCCCHHHHHHCCCCEEEEEEEEEEECCEEEEEEEEE...</td>\n",
       "      <td>244</td>\n",
       "      <td>False</td>\n",
       "      <td>242</td>\n",
       "      <td>XRAY</td>\n",
       "      <td>0.95</td>\n",
       "      <td>0.135</td>\n",
       "      <td>0.157</td>\n",
       "    </tr>\n",
       "    <tr>\n",
       "      <th>9062</th>\n",
       "      <td>6YB7</td>\n",
       "      <td>A</td>\n",
       "      <td>SGFRKMAFPSGKVEGCMVQVTCGTTTLNGLWLDDVVYCPRHVICTS...</td>\n",
       "      <td>CCCCCCCCCCHHHHTTEEEEEETTEEEEEEEETTEEEEEGGGGCCT...</td>\n",
       "      <td>CCCCCCCCCCHHHHCCEEEEEECCEEEEEEEECCEEEEEHHHHCCC...</td>\n",
       "      <td>306</td>\n",
       "      <td>False</td>\n",
       "      <td>305</td>\n",
       "      <td>XRAY</td>\n",
       "      <td>1.25</td>\n",
       "      <td>0.144</td>\n",
       "      <td>0.180</td>\n",
       "    </tr>\n",
       "    <tr>\n",
       "      <th>9672</th>\n",
       "      <td>1OEW</td>\n",
       "      <td>A</td>\n",
       "      <td>STGSATTTPIDSLDDAYITPVQIGTPAQTLNLDFDTGSSDLWVFSS...</td>\n",
       "      <td>CCEEEEEEESSTTCCCEEEEEEETTTTEEEEEEEETTCCCEEECBT...</td>\n",
       "      <td>CCEEEEEEECCCCCCCEEEEEEECCCCEEEEEEEECCCCCEEECEC...</td>\n",
       "      <td>330</td>\n",
       "      <td>False</td>\n",
       "      <td>329</td>\n",
       "      <td>XRAY</td>\n",
       "      <td>0.90</td>\n",
       "      <td>0.121</td>\n",
       "      <td>0.147</td>\n",
       "    </tr>\n",
       "    <tr>\n",
       "      <th>12455</th>\n",
       "      <td>1GKM</td>\n",
       "      <td>A</td>\n",
       "      <td>TELTLKPGTLTLAQLRAIHAAPVRLQLDASAAPAIDASVACVEQII...</td>\n",
       "      <td>CEEEECTTCCCHHHHHHHHHSCCEEEECGGGHHHHHHHHHHHHHHH...</td>\n",
       "      <td>CEEEECCCCCCHHHHHHHHHCCCEEEECHHHHHHHHHHHHHHHHHH...</td>\n",
       "      <td>509</td>\n",
       "      <td>False</td>\n",
       "      <td>507</td>\n",
       "      <td>XRAY</td>\n",
       "      <td>1.00</td>\n",
       "      <td>0.119</td>\n",
       "      <td>0.135</td>\n",
       "    </tr>\n",
       "  </tbody>\n",
       "</table>\n",
       "</div>"
      ],
      "text/plain": [
       "      pdb_id chain_code                                                seq  \\\n",
       "4822    6SLL          A  WSHPQFEKSGMAVDTGTEVVYRRPEARDGTRVWELIRDTGSLDLNS...   \n",
       "6581    6L27          A  MGEELFTGVVPILVELDGDVNGHKFSVSGEGEGDATYGKLTLKFIS...   \n",
       "7053    3NED          A  MGHHHHHHGVSKGEEDNMAIIKEFMRFKTHMEGSVNGHEFEIEGEG...   \n",
       "9062    6YB7          A  SGFRKMAFPSGKVEGCMVQVTCGTTTLNGLWLDDVVYCPRHVICTS...   \n",
       "9672    1OEW          A  STGSATTTPIDSLDDAYITPVQIGTPAQTLNLDFDTGSSDLWVFSS...   \n",
       "12455   1GKM          A  TELTLKPGTLTLAQLRAIHAAPVRLQLDASAAPAIDASVACVEQII...   \n",
       "\n",
       "                                                    sst8  \\\n",
       "4822   CCCCCCCCCCCCCCCCCCCEEECCCGGGHHHHHHHHHHHSSSCCCC...   \n",
       "6581   CCGGGGSSCEEEEEEEEEEETTEEEEEEEEEEEEGGGTEEEEEEEE...   \n",
       "7053   CCCCCCCCCCCCCCHHHHHHSCSSEEEEEEEEEEETTEEEEEEEEE...   \n",
       "9062   CCCCCCCCCCHHHHTTEEEEEETTEEEEEEEETTEEEEEGGGGCCT...   \n",
       "9672   CCEEEEEEESSTTCCCEEEEEEETTTTEEEEEEEETTCCCEEECBT...   \n",
       "12455  CEEEECTTCCCHHHHHHHHHSCCEEEECGGGHHHHHHHHHHHHHHH...   \n",
       "\n",
       "                                                    sst3  len_x has_nonstd_aa  \\\n",
       "4822   CCCCCCCCCCCCCCCCCCCEEECCCHHHHHHHHHHHHHHCCCCCCC...    180         False   \n",
       "6581   CCHHHHCCCEEEEEEEEEEECCEEEEEEEEEEEEHHHCEEEEEEEE...    229         False   \n",
       "7053   CCCCCCCCCCCCCCHHHHHHCCCCEEEEEEEEEEECCEEEEEEEEE...    244         False   \n",
       "9062   CCCCCCCCCCHHHHCCEEEEEECCEEEEEEEECCEEEEEHHHHCCC...    306         False   \n",
       "9672   CCEEEEEEECCCCCCCEEEEEEECCCCEEEEEEEECCCCCEEECEC...    330         False   \n",
       "12455  CEEEECCCCCCHHHHHHHHHCCCEEEECHHHHHHHHHHHHHHHHHH...    509         False   \n",
       "\n",
       "       len_y method  resol   rfac  freerfac  \n",
       "4822     186   XRAY   1.20  0.123     0.150  \n",
       "6581     227   XRAY   0.77  0.119     0.124  \n",
       "7053     242   XRAY   0.95  0.135     0.157  \n",
       "9062     305   XRAY   1.25  0.144     0.180  \n",
       "9672     329   XRAY   0.90  0.121     0.147  \n",
       "12455    507   XRAY   1.00  0.119     0.135  "
      ]
     },
     "execution_count": 49,
     "metadata": {},
     "output_type": "execute_result"
    }
   ],
   "source": [
    "bdf.query('len_x != len_y')"
   ]
  },
  {
   "cell_type": "markdown",
   "metadata": {},
   "source": [
    "#### They don't match, so check which (if either) is correct"
   ]
  },
  {
   "cell_type": "code",
   "execution_count": 50,
   "metadata": {},
   "outputs": [
    {
     "name": "stdout",
     "output_type": "stream",
     "text": [
      "seq =  [180, 229, 244, 306, 330, 509]\n",
      "sst8 =  [180, 229, 244, 306, 330, 509]\n",
      "sst3 =  [180, 229, 244, 306, 330, 509]\n"
     ]
    }
   ],
   "source": [
    "q = bdf.query('len_x != len_y')\n",
    "\n",
    "print(\"seq = \", [len(s) for s in q.seq])\n",
    "print(\"sst8 = \", [len(s) for s in q.sst8])\n",
    "print('sst3 = ', [len(s) for s in q.sst3])"
   ]
  },
  {
   "cell_type": "markdown",
   "metadata": {},
   "source": [
    "PDB ss.txt is accurate, which is consistent with the original dataset findings from 2018.\n",
    "\n",
    "Original note:\n",
    "\n",
    "Verified that the `ss.txt.gz` from pdb is more update-to-date (see [fasta](https://www.rcsb.org/pdb/download/viewFastaFiles.do?structureIdList=5LTR&compressionType=uncompressed)), so drop `length` column"
   ]
  },
  {
   "cell_type": "code",
   "execution_count": 52,
   "metadata": {},
   "outputs": [
    {
     "data": {
      "text/plain": [
       "<AxesSubplot:ylabel='Frequency'>"
      ]
     },
     "execution_count": 52,
     "metadata": {},
     "output_type": "execute_result"
    },
    {
     "data": {
      "image/png": "[encoded data removed]",
      "text/plain": [
       "<Figure size 640x480 with 1 Axes>"
      ]
     },
     "metadata": {},
     "output_type": "display_data"
    }
   ],
   "source": [
    "bdf.len_x.plot.hist(bins=20)"
   ]
  },
  {
   "cell_type": "code",
   "execution_count": 53,
   "metadata": {},
   "outputs": [
    {
     "data": {
      "text/html": [
       "<div>\n",
       "<style scoped>\n",
       "    .dataframe tbody tr th:only-of-type {\n",
       "        vertical-align: middle;\n",
       "    }\n",
       "\n",
       "    .dataframe tbody tr th {\n",
       "        vertical-align: top;\n",
       "    }\n",
       "\n",
       "    .dataframe thead th {\n",
       "        text-align: right;\n",
       "    }\n",
       "</style>\n",
       "<table border=\"1\" class=\"dataframe\">\n",
       "  <thead>\n",
       "    <tr style=\"text-align: right;\">\n",
       "      <th></th>\n",
       "      <th>pdb_id</th>\n",
       "      <th>chain_code</th>\n",
       "      <th>seq</th>\n",
       "      <th>sst8</th>\n",
       "      <th>sst3</th>\n",
       "      <th>len_x</th>\n",
       "      <th>has_nonstd_aa</th>\n",
       "      <th>len_y</th>\n",
       "      <th>method</th>\n",
       "      <th>resol</th>\n",
       "      <th>rfac</th>\n",
       "      <th>freerfac</th>\n",
       "    </tr>\n",
       "  </thead>\n",
       "  <tbody>\n",
       "    <tr>\n",
       "      <th>0</th>\n",
       "      <td>1VZJ</td>\n",
       "      <td>A</td>\n",
       "      <td>DTLDEAERQWKAEFHRWSSYMVHWKNQFDHYSKQDRCSDL</td>\n",
       "      <td>CCCTTHHHHHHHHHHHHHHHHHHHHHHCCCCCCCCCCCCC</td>\n",
       "      <td>CCCCCHHHHHHHHHHHHHHHHHHHHHHCCCCCCCCCCCCC</td>\n",
       "      <td>40</td>\n",
       "      <td>False</td>\n",
       "      <td>40</td>\n",
       "      <td>XRAY</td>\n",
       "      <td>2.35</td>\n",
       "      <td>0.247</td>\n",
       "      <td>0.259</td>\n",
       "    </tr>\n",
       "    <tr>\n",
       "      <th>1</th>\n",
       "      <td>2D7D</td>\n",
       "      <td>B</td>\n",
       "      <td>KERQKVVEQMEHEMKEAAKALDFERAAELRDLLLELKAEG</td>\n",
       "      <td>CHHHHHHHHHHHHHHHHHHTTCHHHHHHHHHHHHHHHCCC</td>\n",
       "      <td>CHHHHHHHHHHHHHHHHHHCCCHHHHHHHHHHHHHHHCCC</td>\n",
       "      <td>40</td>\n",
       "      <td>False</td>\n",
       "      <td>40</td>\n",
       "      <td>XRAY</td>\n",
       "      <td>2.10</td>\n",
       "      <td>0.230</td>\n",
       "      <td>0.285</td>\n",
       "    </tr>\n",
       "  </tbody>\n",
       "</table>\n",
       "</div>"
      ],
      "text/plain": [
       "  pdb_id chain_code                                       seq  \\\n",
       "0   1VZJ          A  DTLDEAERQWKAEFHRWSSYMVHWKNQFDHYSKQDRCSDL   \n",
       "1   2D7D          B  KERQKVVEQMEHEMKEAAKALDFERAAELRDLLLELKAEG   \n",
       "\n",
       "                                       sst8  \\\n",
       "0  CCCTTHHHHHHHHHHHHHHHHHHHHHHCCCCCCCCCCCCC   \n",
       "1  CHHHHHHHHHHHHHHHHHHTTCHHHHHHHHHHHHHHHCCC   \n",
       "\n",
       "                                       sst3  len_x has_nonstd_aa  len_y  \\\n",
       "0  CCCCCHHHHHHHHHHHHHHHHHHHHHHCCCCCCCCCCCCC     40         False     40   \n",
       "1  CHHHHHHHHHHHHHHHHHHCCCHHHHHHHHHHHHHHHCCC     40         False     40   \n",
       "\n",
       "  method  resol   rfac  freerfac  \n",
       "0   XRAY   2.35  0.247     0.259  \n",
       "1   XRAY   2.10  0.230     0.285  "
      ]
     },
     "execution_count": 53,
     "metadata": {},
     "output_type": "execute_result"
    }
   ],
   "source": [
    "bdf.head(2)"
   ]
  },
  {
   "cell_type": "markdown",
   "metadata": {},
   "source": [
    "# Get a sense of sst distribution"
   ]
  },
  {
   "cell_type": "code",
   "execution_count": 54,
   "metadata": {},
   "outputs": [],
   "source": [
    "sst8_sr = pd.Series(list(''.join(bdf.sst8.values.tolist())))"
   ]
  },
  {
   "cell_type": "code",
   "execution_count": 55,
   "metadata": {},
   "outputs": [
    {
     "data": {
      "text/plain": [
       "<AxesSubplot:>"
      ]
     },
     "execution_count": 55,
     "metadata": {},
     "output_type": "execute_result"
    },
    {
     "data": {
      "image/png": "[encoded data removed]",
      "text/plain": [
       "<Figure size 640x480 with 1 Axes>"
      ]
     },
     "metadata": {},
     "output_type": "display_data"
    }
   ],
   "source": [
    "sst8_sr.value_counts().plot.bar()"
   ]
  },
  {
   "cell_type": "code",
   "execution_count": 56,
   "metadata": {},
   "outputs": [],
   "source": [
    "sst3_sr = pd.Series(list(''.join(bdf.sst3.values.tolist())))"
   ]
  },
  {
   "cell_type": "code",
   "execution_count": 57,
   "metadata": {},
   "outputs": [
    {
     "data": {
      "text/plain": [
       "<AxesSubplot:>"
      ]
     },
     "execution_count": 57,
     "metadata": {},
     "output_type": "execute_result"
    },
    {
     "data": {
      "image/png": "[encoded data removed]",
      "text/plain": [
       "<Figure size 640x480 with 1 Axes>"
      ]
     },
     "metadata": {},
     "output_type": "display_data"
    }
   ],
   "source": [
    "sst3_sr.value_counts().plot.bar()"
   ]
  },
  {
   "cell_type": "markdown",
   "metadata": {},
   "source": [
    "# Get a sense of aa distribution"
   ]
  },
  {
   "cell_type": "code",
   "execution_count": 58,
   "metadata": {},
   "outputs": [],
   "source": [
    "aa_sr = sst_sr = pd.Series(list(''.join(bdf.seq.values.tolist())))"
   ]
  },
  {
   "cell_type": "code",
   "execution_count": 59,
   "metadata": {},
   "outputs": [
    {
     "data": {
      "text/plain": [
       "<AxesSubplot:>"
      ]
     },
     "execution_count": 59,
     "metadata": {},
     "output_type": "execute_result"
    },
    {
     "data": {
      "image/png": "[encoded data removed]",
      "text/plain": [
       "<Figure size 640x480 with 1 Axes>"
      ]
     },
     "metadata": {},
     "output_type": "display_data"
    }
   ],
   "source": [
    "aa_sr.value_counts().plot.bar()"
   ]
  },
  {
   "cell_type": "code",
   "execution_count": 31,
   "metadata": {},
   "outputs": [],
   "source": [
    "bdf.to_csv('.raw_data/2022-08-06-pdb-intersect-pisces_pc30_r2.5.csv', index=False)"
   ]
  },
  {
   "cell_type": "code",
   "execution_count": null,
   "metadata": {},
   "outputs": [],
   "source": []
  }
 ],
 "metadata": {
  "anaconda-cloud": {},
  "kernelspec": {
   "display_name": "Python 3 (ipykernel)",
   "language": "python",
   "name": "python3"
  },
  "language_info": {
   "codemirror_mode": {
    "name": "ipython",
    "version": 3
   },
   "file_extension": ".py",
   "mimetype": "text/x-python",
   "name": "python",
   "nbconvert_exporter": "python",
   "pygments_lexer": "ipython3",
   "version": "3.10.0"
  }
 },
 "nbformat": 4,
 "nbformat_minor": 2
}
